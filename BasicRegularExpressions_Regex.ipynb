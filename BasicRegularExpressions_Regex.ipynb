{
  "nbformat": 4,
  "nbformat_minor": 0,
  "metadata": {
    "colab": {
      "name": "BasicRegularExpressions_Regex.ipynb",
      "provenance": [],
      "collapsed_sections": []
    },
    "kernelspec": {
      "name": "python3",
      "display_name": "Python 3"
    }
  },
  "cells": [
    {
      "cell_type": "markdown",
      "metadata": {
        "id": "uXGS0eGZ79lz"
      },
      "source": [
        "# **Basic Regex Exercise**\n",
        "\n",
        "**Class Exercise Part 02a**\n",
        "\n",
        "FAA tower closures\n",
        "\n",
        "A list of FAA tower closures has been copied from a [PDF](https://www.faa.gov/news/media/fct_closed.pdf) into the file faa.txt.\n"
      ]
    },
    {
      "cell_type": "code",
      "metadata": {
        "id": "UxgBUk6sgYeg"
      },
      "source": [
        "# Import modules\n",
        "import re\n",
        "import pandas as pd"
      ],
      "execution_count": null,
      "outputs": []
    },
    {
      "cell_type": "code",
      "metadata": {
        "id": "C5RMeDxE4lq8"
      },
      "source": [
        "# read the file into a single string\n",
        "with open('/content/faa.txt') as f:\n",
        "    data = f.read()"
      ],
      "execution_count": null,
      "outputs": []
    },
    {
      "cell_type": "code",
      "metadata": {
        "id": "Ni5QHmVf881Y",
        "colab": {
          "base_uri": "https://localhost:8080/"
        },
        "outputId": "82b83bd5-1f18-4f68-ad64-6f58e7dec44c"
      },
      "source": [
        "# check the number of characters\n",
        "len(data)"
      ],
      "execution_count": null,
      "outputs": [
        {
          "output_type": "execute_result",
          "data": {
            "text/plain": [
              "5574"
            ]
          },
          "metadata": {
            "tags": []
          },
          "execution_count": 84
        }
      ]
    },
    {
      "cell_type": "code",
      "metadata": {
        "id": "iOgBXzTW9CGP",
        "colab": {
          "base_uri": "https://localhost:8080/",
          "height": 71
        },
        "outputId": "8c67a704-be42-427e-f551-75df6f7849e5"
      },
      "source": [
        "# examine the first 500 characters\n",
        "data[0:500]"
      ],
      "execution_count": null,
      "outputs": [
        {
          "output_type": "execute_result",
          "data": {
            "application/vnd.google.colaboratory.intrinsic+json": {
              "type": "string"
            },
            "text/plain": [
              "'FAA Contract Tower Closure List\\n(149 FCTs)\\n3-22-2013\\nLOC\\nID Facility Name City State\\nDHN DOTHAN RGNL DOTHAN AL\\nTCL TUSCALOOSA RGNL TUSCALOOSA AL\\nFYV DRAKE FIELD FAYETTEVILLE AR\\nTXK TEXARKANA RGNL-WEBB FIELD TEXARKANA AR\\nGEU GLENDALE MUNI GLENDALE AZ\\nGYR PHOENIX GOODYEAR GOODYEAR AZ\\nIFP LAUGHLIN/BULLHEAD INTL BULLHEAD CITY AZ\\nRYN RYAN FIELD TUCSON AZ\\nFUL FULLERTON MUNI FULLERTON CA\\nMER CASTLE ATWATER CA\\nOXR OXNARD OXNARD CA\\nRAL RIVERSIDE MUNI RIVERSIDE CA\\nRNM RAMONA RAMONA CA\\nSAC SACRAMENTO EXECU'"
            ]
          },
          "metadata": {
            "tags": []
          },
          "execution_count": 85
        }
      ]
    },
    {
      "cell_type": "code",
      "metadata": {
        "id": "LQwudeZA9GRK",
        "colab": {
          "base_uri": "https://localhost:8080/",
          "height": 71
        },
        "outputId": "38be293f-c90c-4e41-a551-e8c91c700f9a"
      },
      "source": [
        "# examine the last 500 characters\n",
        "data[-500:]"
      ],
      "execution_count": null,
      "outputs": [
        {
          "output_type": "execute_result",
          "data": {
            "application/vnd.google.colaboratory.intrinsic+json": {
              "type": "string"
            },
            "text/plain": [
              "' YAKIMA WA\\nCWA CENTRAL WISCONSIN MOSINEE WI\\nEAU CHIPPEWA VALLEY RGNL EAU CLAIRE WI\\nENW KENOSHA RGNL KENOSHA WI\\nPage 3 of 4\\nFAA Contract Tower Closure List\\n(149 FCTs)\\n3-22-2013\\nLOC\\nID Facility Name City State\\nJVL SOUTHERN WISCONSIN RGNL JANESVILLE WI\\nLSE LA CROSSE MUNI LA CROSSE WI\\nMWC LAWRENCE J TIMMERMAN MILWAUKEE WI\\nOSH WITTMAN RGNL OSHKOSH WI\\nUES WAUKESHA COUNTY WAUKESHA WI\\nHLG WHEELING OHIO CO WHEELING WV\\nLWB GREENBRIER VALLEY LEWISBURG WV\\nPKB MID-OHIO VALLEY RGNL PARKERSBURG WV\\nPage 4 of 4\\n'"
            ]
          },
          "metadata": {
            "tags": []
          },
          "execution_count": 86
        }
      ]
    },
    {
      "cell_type": "markdown",
      "metadata": {
        "id": "jWvYofpt9RaK"
      },
      "source": [
        "Your assignment is to **create a list of tuples** containing the **tower IDs** and the **states** they are located in.\n",
        "\n",
        "Here is the **expected output**:\n",
        "\n",
        "faa = [('DHN', 'AL'), ('TCL', 'AL'), ..., ('PKB', 'WV')]"
      ]
    },
    {
      "cell_type": "code",
      "metadata": {
        "colab": {
          "base_uri": "https://localhost:8080/"
        },
        "id": "YJG2H1CBX0l8",
        "outputId": "ea1a68ec-8848-46b8-c39a-6a0ae8362330"
      },
      "source": [
        "# Extracting tower IDs and states\n",
        "faa = re.findall(r'([A-Z]{3}).+([A-Z]{2})', data)\n",
        "faa"
      ],
      "execution_count": null,
      "outputs": [
        {
          "output_type": "execute_result",
          "data": {
            "text/plain": [
              "[('DHN', 'AL'),\n",
              " ('TCL', 'AL'),\n",
              " ('FYV', 'AR'),\n",
              " ('TXK', 'AR'),\n",
              " ('GEU', 'AZ'),\n",
              " ('GYR', 'AZ'),\n",
              " ('IFP', 'AZ'),\n",
              " ('RYN', 'AZ'),\n",
              " ('FUL', 'CA'),\n",
              " ('MER', 'CA'),\n",
              " ('OXR', 'CA'),\n",
              " ('RAL', 'CA'),\n",
              " ('RNM', 'CA'),\n",
              " ('SAC', 'CA'),\n",
              " ('SDM', 'CA'),\n",
              " ('SNS', 'CA'),\n",
              " ('VCV', 'CA'),\n",
              " ('WHP', 'CA'),\n",
              " ('WJF', 'CA'),\n",
              " ('BDR', 'CT'),\n",
              " ('DXR', 'CT'),\n",
              " ('GON', 'CT'),\n",
              " ('HFD', 'CT'),\n",
              " ('HVN', 'CT'),\n",
              " ('OXC', 'CT'),\n",
              " ('APF', 'FL'),\n",
              " ('BCT', 'FL'),\n",
              " ('EVB', 'FL'),\n",
              " ('FMY', 'FL'),\n",
              " ('HWO', 'FL'),\n",
              " ('LAL', 'FL'),\n",
              " ('LEE', 'FL'),\n",
              " ('OCF', 'FL'),\n",
              " ('OMN', 'FL'),\n",
              " ('PGD', 'FL'),\n",
              " ('SGJ', 'FL'),\n",
              " ('SPG', 'FL'),\n",
              " ('SUA', 'FL'),\n",
              " ('TIX', 'FL'),\n",
              " ('ABY', 'GA'),\n",
              " ('AHN', 'GA'),\n",
              " ('LZU', 'GA'),\n",
              " ('MCN', 'GA'),\n",
              " ('RYY', 'GA'),\n",
              " ('DBQ', 'IA'),\n",
              " ('IDA', 'ID'),\n",
              " ('LWS', 'ID'),\n",
              " ('PIH', 'ID'),\n",
              " ('SUN', 'ID'),\n",
              " ('ALN', 'IL'),\n",
              " ('BMI', 'IL'),\n",
              " ('DEC', 'IL'),\n",
              " ('MDH', 'IL'),\n",
              " ('UGN', 'IL'),\n",
              " ('BAK', 'IN'),\n",
              " ('GYY', 'IN'),\n",
              " ('HUT', 'KS'),\n",
              " ('IXD', 'KS'),\n",
              " ('MHK', 'KS'),\n",
              " ('OJC', 'KS'),\n",
              " ('TOP', 'KS'),\n",
              " ('OWB', 'KY'),\n",
              " ('PAH', 'KY'),\n",
              " ('DTN', 'LA'),\n",
              " ('BVY', 'MA'),\n",
              " ('EWB', 'MA'),\n",
              " ('LWM', 'MA'),\n",
              " ('ORH', 'MA'),\n",
              " ('OWD', 'MA'),\n",
              " ('ESN', 'MD'),\n",
              " ('FDK', 'MD'),\n",
              " ('HGR', 'MD'),\n",
              " ('MTN', 'MD'),\n",
              " ('SBY', 'MD'),\n",
              " ('BTL', 'MI'),\n",
              " ('DET', 'MI'),\n",
              " ('SAW', 'MI'),\n",
              " ('ANE', 'MN'),\n",
              " ('STC', 'MN'),\n",
              " ('BBG', 'MO'),\n",
              " ('COU', 'MO'),\n",
              " ('GLH', 'MS'),\n",
              " ('HKS', 'MS'),\n",
              " ('HSA', 'MS'),\n",
              " ('OLV', 'MS'),\n",
              " ('TUP', 'MS'),\n",
              " ('GPI', 'MT'),\n",
              " ('EWN', 'NC'),\n",
              " ('HKY', 'NC'),\n",
              " ('INT', 'NC'),\n",
              " ('ISO', 'NC'),\n",
              " ('JQF', 'NC'),\n",
              " ('ASH', 'NH'),\n",
              " ('TTN', 'NJ'),\n",
              " ('AEG', 'NM'),\n",
              " ('SAF', 'NM'),\n",
              " ('ITH', 'NY'),\n",
              " ('RME', 'NY'),\n",
              " ('CGF', 'OH'),\n",
              " ('OSU', 'OH'),\n",
              " ('TZR', 'OH'),\n",
              " ('LAW', 'OK'),\n",
              " ('OUN', 'OK'),\n",
              " ('PWA', 'OK'),\n",
              " ('SWO', 'OK'),\n",
              " ('OTH', 'OR'),\n",
              " ('PDT', 'OR'),\n",
              " ('SLE', 'OR'),\n",
              " ('TTD', 'OR'),\n",
              " ('CXY', 'PA'),\n",
              " ('LBE', 'PA'),\n",
              " ('LNS', 'PA'),\n",
              " ('CRE', 'SC'),\n",
              " ('GYH', 'SC'),\n",
              " ('HXD', 'SC'),\n",
              " ('MKL', 'TN'),\n",
              " ('NQA', 'TN'),\n",
              " ('BAZ', 'TX'),\n",
              " ('BRO', 'TX'),\n",
              " ('CLL', 'TX'),\n",
              " ('CNW', 'TX'),\n",
              " ('CXO', 'TX'),\n",
              " ('GTU', 'TX'),\n",
              " ('HYI', 'TX'),\n",
              " ('RBD', 'TX'),\n",
              " ('SGR', 'TX'),\n",
              " ('SSF', 'TX'),\n",
              " ('TKI', 'TX'),\n",
              " ('TYR', 'TX'),\n",
              " ('VCT', 'TX'),\n",
              " ('OGD', 'UT'),\n",
              " ('PVU', 'UT'),\n",
              " ('LYH', 'VA'),\n",
              " ('OLM', 'WA'),\n",
              " ('RNT', 'WA'),\n",
              " ('SFF', 'WA'),\n",
              " ('TIW', 'WA'),\n",
              " ('YKM', 'WA'),\n",
              " ('CWA', 'WI'),\n",
              " ('EAU', 'WI'),\n",
              " ('ENW', 'WI'),\n",
              " ('JVL', 'WI'),\n",
              " ('LSE', 'WI'),\n",
              " ('MWC', 'WI'),\n",
              " ('OSH', 'WI'),\n",
              " ('UES', 'WI'),\n",
              " ('HLG', 'WV'),\n",
              " ('LWB', 'WV'),\n",
              " ('PKB', 'WV')]"
            ]
          },
          "metadata": {
            "tags": []
          },
          "execution_count": 87
        }
      ]
    },
    {
      "cell_type": "code",
      "metadata": {
        "id": "vQ2-mNyc9zsI",
        "colab": {
          "base_uri": "https://localhost:8080/"
        },
        "outputId": "16367747-ad00-4ed2-c392-6edba06f6c60"
      },
      "source": [
        "print(faa)"
      ],
      "execution_count": null,
      "outputs": [
        {
          "output_type": "stream",
          "text": [
            "[('DHN', 'AL'), ('TCL', 'AL'), ('FYV', 'AR'), ('TXK', 'AR'), ('GEU', 'AZ'), ('GYR', 'AZ'), ('IFP', 'AZ'), ('RYN', 'AZ'), ('FUL', 'CA'), ('MER', 'CA'), ('OXR', 'CA'), ('RAL', 'CA'), ('RNM', 'CA'), ('SAC', 'CA'), ('SDM', 'CA'), ('SNS', 'CA'), ('VCV', 'CA'), ('WHP', 'CA'), ('WJF', 'CA'), ('BDR', 'CT'), ('DXR', 'CT'), ('GON', 'CT'), ('HFD', 'CT'), ('HVN', 'CT'), ('OXC', 'CT'), ('APF', 'FL'), ('BCT', 'FL'), ('EVB', 'FL'), ('FMY', 'FL'), ('HWO', 'FL'), ('LAL', 'FL'), ('LEE', 'FL'), ('OCF', 'FL'), ('OMN', 'FL'), ('PGD', 'FL'), ('SGJ', 'FL'), ('SPG', 'FL'), ('SUA', 'FL'), ('TIX', 'FL'), ('ABY', 'GA'), ('AHN', 'GA'), ('LZU', 'GA'), ('MCN', 'GA'), ('RYY', 'GA'), ('DBQ', 'IA'), ('IDA', 'ID'), ('LWS', 'ID'), ('PIH', 'ID'), ('SUN', 'ID'), ('ALN', 'IL'), ('BMI', 'IL'), ('DEC', 'IL'), ('MDH', 'IL'), ('UGN', 'IL'), ('BAK', 'IN'), ('GYY', 'IN'), ('HUT', 'KS'), ('IXD', 'KS'), ('MHK', 'KS'), ('OJC', 'KS'), ('TOP', 'KS'), ('OWB', 'KY'), ('PAH', 'KY'), ('DTN', 'LA'), ('BVY', 'MA'), ('EWB', 'MA'), ('LWM', 'MA'), ('ORH', 'MA'), ('OWD', 'MA'), ('ESN', 'MD'), ('FDK', 'MD'), ('HGR', 'MD'), ('MTN', 'MD'), ('SBY', 'MD'), ('BTL', 'MI'), ('DET', 'MI'), ('SAW', 'MI'), ('ANE', 'MN'), ('STC', 'MN'), ('BBG', 'MO'), ('COU', 'MO'), ('GLH', 'MS'), ('HKS', 'MS'), ('HSA', 'MS'), ('OLV', 'MS'), ('TUP', 'MS'), ('GPI', 'MT'), ('EWN', 'NC'), ('HKY', 'NC'), ('INT', 'NC'), ('ISO', 'NC'), ('JQF', 'NC'), ('ASH', 'NH'), ('TTN', 'NJ'), ('AEG', 'NM'), ('SAF', 'NM'), ('ITH', 'NY'), ('RME', 'NY'), ('CGF', 'OH'), ('OSU', 'OH'), ('TZR', 'OH'), ('LAW', 'OK'), ('OUN', 'OK'), ('PWA', 'OK'), ('SWO', 'OK'), ('OTH', 'OR'), ('PDT', 'OR'), ('SLE', 'OR'), ('TTD', 'OR'), ('CXY', 'PA'), ('LBE', 'PA'), ('LNS', 'PA'), ('CRE', 'SC'), ('GYH', 'SC'), ('HXD', 'SC'), ('MKL', 'TN'), ('NQA', 'TN'), ('BAZ', 'TX'), ('BRO', 'TX'), ('CLL', 'TX'), ('CNW', 'TX'), ('CXO', 'TX'), ('GTU', 'TX'), ('HYI', 'TX'), ('RBD', 'TX'), ('SGR', 'TX'), ('SSF', 'TX'), ('TKI', 'TX'), ('TYR', 'TX'), ('VCT', 'TX'), ('OGD', 'UT'), ('PVU', 'UT'), ('LYH', 'VA'), ('OLM', 'WA'), ('RNT', 'WA'), ('SFF', 'WA'), ('TIW', 'WA'), ('YKM', 'WA'), ('CWA', 'WI'), ('EAU', 'WI'), ('ENW', 'WI'), ('JVL', 'WI'), ('LSE', 'WI'), ('MWC', 'WI'), ('OSH', 'WI'), ('UES', 'WI'), ('HLG', 'WV'), ('LWB', 'WV'), ('PKB', 'WV')]\n"
          ],
          "name": "stdout"
        }
      ]
    },
    {
      "cell_type": "markdown",
      "metadata": {
        "id": "oqFabZId9_63"
      },
      "source": [
        "Use regular expressions to extract the **number of closures** listed in the second line of the file (149), and then use an **assertion** to check that the number of closures is equal to the length of the faa list."
      ]
    },
    {
      "cell_type": "code",
      "metadata": {
        "id": "mZIfFstn9-B7",
        "colab": {
          "base_uri": "https://localhost:8080/"
        },
        "outputId": "da9cd7f8-d653-4213-f627-235957c68f3b"
      },
      "source": [
        "# Extract number of closures as an integer\n",
        "num_closures = int(re.search(r'(\\d{3})', data).group())\n",
        "print(num_closures)\n",
        "\n",
        "# Use assertion to check if equal to faa list\n",
        "len(faa) == num_closures"
      ],
      "execution_count": null,
      "outputs": [
        {
          "output_type": "stream",
          "text": [
            "149\n"
          ],
          "name": "stdout"
        },
        {
          "output_type": "execute_result",
          "data": {
            "text/plain": [
              "True"
            ]
          },
          "metadata": {
            "tags": []
          },
          "execution_count": 89
        }
      ]
    },
    {
      "cell_type": "markdown",
      "metadata": {
        "id": "aKK-VbLR-ol2"
      },
      "source": [
        "**Class Exercise Part 02b**: Stack Overflow reputation\n",
        "\n",
        "I have downloaded a Stack Overflow reputation history into the file reputation.txt.\n",
        "\n",
        "We are only interested in the lines that begin with two dashes, such as:\n",
        "\n",
        "> -- 2012-08-30 rep +5    = 6\n",
        "\n",
        "That line can be interpreted as follows: \"On 2012-08-30, reputation increased by 5, bringing reputation total to 6.\"\n",
        "\n",
        "Your assignment is to create a list of tuples containing only these dated entries, including the date, reputation change (regardless of whether it is positive/negative/zero), and running total.\n",
        "\n",
        "Here is the **expected output**:\n",
        "\n",
        "> rep = [('2012-08-30', '+5', '6'), ('2012-12-11', '+10', '16'), ...,  ('2015-10-14', '-1', '317')]"
      ]
    },
    {
      "cell_type": "code",
      "metadata": {
        "id": "WdbTULsR_njp"
      },
      "source": [
        "# read the file into a single string\n",
        "with open('/content/reputation.txt') as f:\n",
        "    data_1 = f.read()"
      ],
      "execution_count": null,
      "outputs": []
    },
    {
      "cell_type": "code",
      "metadata": {
        "id": "nZnd_7DQ_49J",
        "colab": {
          "base_uri": "https://localhost:8080/",
          "height": 124
        },
        "outputId": "1b039a68-51b9-453f-b7db-adf2f5835eca"
      },
      "source": [
        "# examine the first 500 characters\n",
        "data_1[500:]"
      ],
      "execution_count": null,
      "outputs": [
        {
          "output_type": "execute_result",
          "data": {
            "application/vnd.google.colaboratory.intrinsic+json": {
              "type": "string"
            },
            "text/plain": [
              "'0 (10)\\n-- 2014-06-26 rep +10   = 62        \\n-- 2014-07-05 rep 0     = 62        \\n-- 2014-09-02 rep 0     = 62        \\n 2  23597220 (10)\\n-- 2014-09-03 rep +10   = 72        \\n-- 2014-10-28 rep 0     = 72        \\n 2  23597220 (10)\\n-- 2014-11-14 rep +10   = 82        \\n 16 12107971 (2)\\n-- 2014-11-18 rep +2    = 84        \\n 16  3621018 (2)\\n-- 2014-12-08 rep +2    = 86        \\n 2  23597220 (10)\\n-- 2014-12-09 rep +10   = 96        \\n 16 16328613 (2)\\n-- 2014-12-12 rep +2    = 98        \\n 2  23597220 (10)\\n-- 2014-12-24 rep +10   = 108       \\n-- 2015-02-03 rep 0     = 108       \\n 2  23597220 (10)\\n-- 2015-02-20 rep +10   = 118       \\n 2  23597220 (10)\\n-- 2015-03-28 rep +10   = 128       \\n 2  23597220 (10)\\n-- 2015-04-26 rep +10   = 138       \\n 2  13822612 (10)\\n-- 2015-05-05 rep +10   = 148       \\n 2  23597220 (10)\\n-- 2015-05-26 rep +10   = 158       \\n 2  23597220 (10)\\n 2  23597220 (10)\\n-- 2015-05-27 rep +20   = 178       \\n-- 2015-06-09 rep 0     = 178       \\n 2  23597220 (10)\\n-- 2015-07-03 rep +10   = 188       \\n-- 2015-07-06 rep 0     = 188       \\n 2  23597220 (10)\\n-- bonuses   (100)\\n-- 2015-07-22 rep +110  = 298       \\n 2  23597220 (10)\\n-- 2015-08-21 rep +10   = 308       \\n 2  23597220 (10)\\n-- 2015-09-07 rep +10   = 318       \\n 3   1839257 (-1)\\n-- 2015-10-14 rep -1    = 317       \\n\\n** rep today: 0\\n** rep this week (2015-11-08 - 2015-11-14): 0\\n** rep this month (2015-11-01 - 2015-11-30): 0\\n** rep this quarter (2015-10-01 - 2015-12-31): -1\\n** rep this year (2015-01-01 - 2015-12-31): 109\\n** rep from bonuses: 100\\n** total rep 317 :)\\n\\ndays represented 34\\nrep cap was reached via rep from upvotes *only* on 0 days\\nearned at least 200 reputation on 0 days\\nearned 10 reputation from suggested edits\\n'"
            ]
          },
          "metadata": {
            "tags": []
          },
          "execution_count": 91
        }
      ]
    },
    {
      "cell_type": "code",
      "metadata": {
        "id": "6YtOY3Sa_8jr",
        "colab": {
          "base_uri": "https://localhost:8080/"
        },
        "outputId": "b9bcce30-affc-4e06-963d-7bf23080aa9a"
      },
      "source": [
        "# extract lines beginning with \"--\"\n",
        "rep = re.findall(r'-- (\\d{4}-\\d{2}-\\d{2}) rep ([+-]?\\d+) += (\\d+)', data_1) \n",
        "rep"
      ],
      "execution_count": null,
      "outputs": [
        {
          "output_type": "execute_result",
          "data": {
            "text/plain": [
              "[('2012-08-30', '+5', '6'),\n",
              " ('2012-12-11', '+10', '16'),\n",
              " ('2013-03-20', '+10', '26'),\n",
              " ('2013-12-05', '0', '26'),\n",
              " ('2014-01-25', '0', '26'),\n",
              " ('2014-03-19', '+2', '28'),\n",
              " ('2014-05-11', '+2', '30'),\n",
              " ('2014-05-12', '+12', '42'),\n",
              " ('2014-06-12', '+10', '52'),\n",
              " ('2014-06-26', '+10', '62'),\n",
              " ('2014-07-05', '0', '62'),\n",
              " ('2014-09-02', '0', '62'),\n",
              " ('2014-09-03', '+10', '72'),\n",
              " ('2014-10-28', '0', '72'),\n",
              " ('2014-11-14', '+10', '82'),\n",
              " ('2014-11-18', '+2', '84'),\n",
              " ('2014-12-08', '+2', '86'),\n",
              " ('2014-12-09', '+10', '96'),\n",
              " ('2014-12-12', '+2', '98'),\n",
              " ('2014-12-24', '+10', '108'),\n",
              " ('2015-02-03', '0', '108'),\n",
              " ('2015-02-20', '+10', '118'),\n",
              " ('2015-03-28', '+10', '128'),\n",
              " ('2015-04-26', '+10', '138'),\n",
              " ('2015-05-05', '+10', '148'),\n",
              " ('2015-05-26', '+10', '158'),\n",
              " ('2015-05-27', '+20', '178'),\n",
              " ('2015-06-09', '0', '178'),\n",
              " ('2015-07-03', '+10', '188'),\n",
              " ('2015-07-06', '0', '188'),\n",
              " ('2015-07-22', '+110', '298'),\n",
              " ('2015-08-21', '+10', '308'),\n",
              " ('2015-09-07', '+10', '318'),\n",
              " ('2015-10-14', '-1', '317')]"
            ]
          },
          "metadata": {
            "tags": []
          },
          "execution_count": 92
        }
      ]
    },
    {
      "cell_type": "markdown",
      "metadata": {
        "id": "EL4ntVshAI9b"
      },
      "source": [
        "Convert this list of tuples into a **pandas DataFrame**. It should have appropriate column names, and the second and third columns, for example: 'change' and 'running_total', should be of type integer (rather than string/object)."
      ]
    },
    {
      "cell_type": "code",
      "metadata": {
        "colab": {
          "base_uri": "https://localhost:8080/",
          "height": 1000
        },
        "id": "WcxpNPo2ATnU",
        "outputId": "4290b278-7f21-4fe5-d358-541db4b95d0e"
      },
      "source": [
        "# convert the list of tuples into a DataFrame\n",
        "col_names = ['date','change','running_total']\n",
        "pd.DataFrame(rep, columns=col_names).astype({'change':'int','running_total':'int'})"
      ],
      "execution_count": null,
      "outputs": [
        {
          "output_type": "execute_result",
          "data": {
            "text/html": [
              "<div>\n",
              "<style scoped>\n",
              "    .dataframe tbody tr th:only-of-type {\n",
              "        vertical-align: middle;\n",
              "    }\n",
              "\n",
              "    .dataframe tbody tr th {\n",
              "        vertical-align: top;\n",
              "    }\n",
              "\n",
              "    .dataframe thead th {\n",
              "        text-align: right;\n",
              "    }\n",
              "</style>\n",
              "<table border=\"1\" class=\"dataframe\">\n",
              "  <thead>\n",
              "    <tr style=\"text-align: right;\">\n",
              "      <th></th>\n",
              "      <th>date</th>\n",
              "      <th>change</th>\n",
              "      <th>running_total</th>\n",
              "    </tr>\n",
              "  </thead>\n",
              "  <tbody>\n",
              "    <tr>\n",
              "      <th>0</th>\n",
              "      <td>2012-08-30</td>\n",
              "      <td>5</td>\n",
              "      <td>6</td>\n",
              "    </tr>\n",
              "    <tr>\n",
              "      <th>1</th>\n",
              "      <td>2012-12-11</td>\n",
              "      <td>10</td>\n",
              "      <td>16</td>\n",
              "    </tr>\n",
              "    <tr>\n",
              "      <th>2</th>\n",
              "      <td>2013-03-20</td>\n",
              "      <td>10</td>\n",
              "      <td>26</td>\n",
              "    </tr>\n",
              "    <tr>\n",
              "      <th>3</th>\n",
              "      <td>2013-12-05</td>\n",
              "      <td>0</td>\n",
              "      <td>26</td>\n",
              "    </tr>\n",
              "    <tr>\n",
              "      <th>4</th>\n",
              "      <td>2014-01-25</td>\n",
              "      <td>0</td>\n",
              "      <td>26</td>\n",
              "    </tr>\n",
              "    <tr>\n",
              "      <th>5</th>\n",
              "      <td>2014-03-19</td>\n",
              "      <td>2</td>\n",
              "      <td>28</td>\n",
              "    </tr>\n",
              "    <tr>\n",
              "      <th>6</th>\n",
              "      <td>2014-05-11</td>\n",
              "      <td>2</td>\n",
              "      <td>30</td>\n",
              "    </tr>\n",
              "    <tr>\n",
              "      <th>7</th>\n",
              "      <td>2014-05-12</td>\n",
              "      <td>12</td>\n",
              "      <td>42</td>\n",
              "    </tr>\n",
              "    <tr>\n",
              "      <th>8</th>\n",
              "      <td>2014-06-12</td>\n",
              "      <td>10</td>\n",
              "      <td>52</td>\n",
              "    </tr>\n",
              "    <tr>\n",
              "      <th>9</th>\n",
              "      <td>2014-06-26</td>\n",
              "      <td>10</td>\n",
              "      <td>62</td>\n",
              "    </tr>\n",
              "    <tr>\n",
              "      <th>10</th>\n",
              "      <td>2014-07-05</td>\n",
              "      <td>0</td>\n",
              "      <td>62</td>\n",
              "    </tr>\n",
              "    <tr>\n",
              "      <th>11</th>\n",
              "      <td>2014-09-02</td>\n",
              "      <td>0</td>\n",
              "      <td>62</td>\n",
              "    </tr>\n",
              "    <tr>\n",
              "      <th>12</th>\n",
              "      <td>2014-09-03</td>\n",
              "      <td>10</td>\n",
              "      <td>72</td>\n",
              "    </tr>\n",
              "    <tr>\n",
              "      <th>13</th>\n",
              "      <td>2014-10-28</td>\n",
              "      <td>0</td>\n",
              "      <td>72</td>\n",
              "    </tr>\n",
              "    <tr>\n",
              "      <th>14</th>\n",
              "      <td>2014-11-14</td>\n",
              "      <td>10</td>\n",
              "      <td>82</td>\n",
              "    </tr>\n",
              "    <tr>\n",
              "      <th>15</th>\n",
              "      <td>2014-11-18</td>\n",
              "      <td>2</td>\n",
              "      <td>84</td>\n",
              "    </tr>\n",
              "    <tr>\n",
              "      <th>16</th>\n",
              "      <td>2014-12-08</td>\n",
              "      <td>2</td>\n",
              "      <td>86</td>\n",
              "    </tr>\n",
              "    <tr>\n",
              "      <th>17</th>\n",
              "      <td>2014-12-09</td>\n",
              "      <td>10</td>\n",
              "      <td>96</td>\n",
              "    </tr>\n",
              "    <tr>\n",
              "      <th>18</th>\n",
              "      <td>2014-12-12</td>\n",
              "      <td>2</td>\n",
              "      <td>98</td>\n",
              "    </tr>\n",
              "    <tr>\n",
              "      <th>19</th>\n",
              "      <td>2014-12-24</td>\n",
              "      <td>10</td>\n",
              "      <td>108</td>\n",
              "    </tr>\n",
              "    <tr>\n",
              "      <th>20</th>\n",
              "      <td>2015-02-03</td>\n",
              "      <td>0</td>\n",
              "      <td>108</td>\n",
              "    </tr>\n",
              "    <tr>\n",
              "      <th>21</th>\n",
              "      <td>2015-02-20</td>\n",
              "      <td>10</td>\n",
              "      <td>118</td>\n",
              "    </tr>\n",
              "    <tr>\n",
              "      <th>22</th>\n",
              "      <td>2015-03-28</td>\n",
              "      <td>10</td>\n",
              "      <td>128</td>\n",
              "    </tr>\n",
              "    <tr>\n",
              "      <th>23</th>\n",
              "      <td>2015-04-26</td>\n",
              "      <td>10</td>\n",
              "      <td>138</td>\n",
              "    </tr>\n",
              "    <tr>\n",
              "      <th>24</th>\n",
              "      <td>2015-05-05</td>\n",
              "      <td>10</td>\n",
              "      <td>148</td>\n",
              "    </tr>\n",
              "    <tr>\n",
              "      <th>25</th>\n",
              "      <td>2015-05-26</td>\n",
              "      <td>10</td>\n",
              "      <td>158</td>\n",
              "    </tr>\n",
              "    <tr>\n",
              "      <th>26</th>\n",
              "      <td>2015-05-27</td>\n",
              "      <td>20</td>\n",
              "      <td>178</td>\n",
              "    </tr>\n",
              "    <tr>\n",
              "      <th>27</th>\n",
              "      <td>2015-06-09</td>\n",
              "      <td>0</td>\n",
              "      <td>178</td>\n",
              "    </tr>\n",
              "    <tr>\n",
              "      <th>28</th>\n",
              "      <td>2015-07-03</td>\n",
              "      <td>10</td>\n",
              "      <td>188</td>\n",
              "    </tr>\n",
              "    <tr>\n",
              "      <th>29</th>\n",
              "      <td>2015-07-06</td>\n",
              "      <td>0</td>\n",
              "      <td>188</td>\n",
              "    </tr>\n",
              "    <tr>\n",
              "      <th>30</th>\n",
              "      <td>2015-07-22</td>\n",
              "      <td>110</td>\n",
              "      <td>298</td>\n",
              "    </tr>\n",
              "    <tr>\n",
              "      <th>31</th>\n",
              "      <td>2015-08-21</td>\n",
              "      <td>10</td>\n",
              "      <td>308</td>\n",
              "    </tr>\n",
              "    <tr>\n",
              "      <th>32</th>\n",
              "      <td>2015-09-07</td>\n",
              "      <td>10</td>\n",
              "      <td>318</td>\n",
              "    </tr>\n",
              "    <tr>\n",
              "      <th>33</th>\n",
              "      <td>2015-10-14</td>\n",
              "      <td>-1</td>\n",
              "      <td>317</td>\n",
              "    </tr>\n",
              "  </tbody>\n",
              "</table>\n",
              "</div>"
            ],
            "text/plain": [
              "          date  change  running_total\n",
              "0   2012-08-30       5              6\n",
              "1   2012-12-11      10             16\n",
              "2   2013-03-20      10             26\n",
              "3   2013-12-05       0             26\n",
              "4   2014-01-25       0             26\n",
              "5   2014-03-19       2             28\n",
              "6   2014-05-11       2             30\n",
              "7   2014-05-12      12             42\n",
              "8   2014-06-12      10             52\n",
              "9   2014-06-26      10             62\n",
              "10  2014-07-05       0             62\n",
              "11  2014-09-02       0             62\n",
              "12  2014-09-03      10             72\n",
              "13  2014-10-28       0             72\n",
              "14  2014-11-14      10             82\n",
              "15  2014-11-18       2             84\n",
              "16  2014-12-08       2             86\n",
              "17  2014-12-09      10             96\n",
              "18  2014-12-12       2             98\n",
              "19  2014-12-24      10            108\n",
              "20  2015-02-03       0            108\n",
              "21  2015-02-20      10            118\n",
              "22  2015-03-28      10            128\n",
              "23  2015-04-26      10            138\n",
              "24  2015-05-05      10            148\n",
              "25  2015-05-26      10            158\n",
              "26  2015-05-27      20            178\n",
              "27  2015-06-09       0            178\n",
              "28  2015-07-03      10            188\n",
              "29  2015-07-06       0            188\n",
              "30  2015-07-22     110            298\n",
              "31  2015-08-21      10            308\n",
              "32  2015-09-07      10            318\n",
              "33  2015-10-14      -1            317"
            ]
          },
          "metadata": {
            "tags": []
          },
          "execution_count": 93
        }
      ]
    }
  ]
}